{
 "cells": [
  {
   "cell_type": "markdown",
   "id": "5b19112a",
   "metadata": {},
   "source": [
    "# Task 3 forecasting and analysis"
   ]
  },
  {
   "cell_type": "code",
   "execution_count": 1,
   "id": "74092898",
   "metadata": {},
   "outputs": [
    {
     "ename": "SyntaxError",
     "evalue": "invalid syntax. Perhaps you forgot a comma? (forecasting.py, line 40)",
     "output_type": "error",
     "traceback": [
      "Traceback \u001b[36m(most recent call last)\u001b[39m:\n",
      "  File \u001b[92mf:\\Time-Series-Forecasting-for-Portfolio-Management-Optimization-\\venv\\Lib\\site-packages\\IPython\\core\\interactiveshell.py:3699\u001b[39m in \u001b[95mrun_code\u001b[39m\n    exec(code_obj, self.user_global_ns, self.user_ns)\n",
      "\u001b[36m  \u001b[39m\u001b[36mCell\u001b[39m\u001b[36m \u001b[39m\u001b[32mIn[1]\u001b[39m\u001b[32m, line 15\u001b[39m\n\u001b[31m    \u001b[39m\u001b[31mfrom src import forecasting\u001b[39m\n",
      "  \u001b[36mFile \u001b[39m\u001b[32mf:\\Time-Series-Forecasting-for-Portfolio-Management-Optimization-\\src\\forecasting.py:40\u001b[39m\n\u001b[31m    \u001b[39m\u001b[31merror_action='ignore', suppress_warnings=True\u001b[39m\n                                             ^\n\u001b[31mSyntaxError\u001b[39m\u001b[31m:\u001b[39m invalid syntax. Perhaps you forgot a comma?\n"
     ]
    }
   ],
   "source": [
    "import pandas as pd\n",
    "import numpy as np\n",
    "import matplotlib.pyplot as plt\n",
    "from pmdarima import auto_arima\n",
    "import os\n",
    "from datetime import datetime, timedelta\n",
    "from statsmodels.tsa.statespace.sarimax import SARIMAX\n",
    "import warnings\n",
    "warnings.filterwarnings('ignore')\n",
    "\n",
    "import os\n",
    "from datetime import datetime\n",
    "import sys\n",
    "sys.path.append(os.path.abspath(os.path.join(os.getcwd(), '..')))\n",
    "from src import forecasting"
   ]
  },
  {
   "cell_type": "code",
   "execution_count": null,
   "id": "e27aa561",
   "metadata": {},
   "outputs": [],
   "source": [
    "def main():\n",
    "    file_path = \"tesla.csv\"  # <-- Your Tesla CSV file\n",
    "    output_dir = \"data/output\"\n",
    "    os.makedirs(output_dir, exist_ok=True)\n",
    "\n",
    "    # Load and split data\n",
    "    df = load_tesla_data(file_path)\n",
    "    train_data, test_data = train_test_split(df)\n",
    "\n",
    "    # Train model & forecast\n",
    "    model = fit_arima_model(train_data)\n",
    "    forecast_series, conf_df = forecast_future(model, df.index[-1], months_ahead=6)\n",
    "\n",
    "    # Plot results\n",
    "    plot_forecast(train_data, test_data, forecast_series, conf_df,\n",
    "                  os.path.join(output_dir, \"tesla_forecast_6months.png\"))\n",
    "\n",
    "    # Save forecast data\n",
    "    forecast_results = pd.concat([forecast_series, conf_df], axis=1)\n",
    "    forecast_results.columns = ['Forecast', 'Lower', 'Upper']\n",
    "    forecast_results.to_csv(os.path.join(output_dir, \"tesla_forecast_6months.csv\"))\n",
    "\n",
    "    # Analyze and save analysis\n",
    "    last_actual_price = df['Adj Close'].iloc[-1]\n",
    "    analysis_text = analyze_forecast(forecast_series, conf_df, last_actual_price)\n",
    "    with open(os.path.join(output_dir, \"tesla_forecast_analysis.txt\"), \"w\") as f:\n",
    "        f.write(analysis_text)\n",
    "\n",
    "    print(analysis_text)"
   ]
  },
  {
   "cell_type": "markdown",
   "id": "a258e254",
   "metadata": {},
   "source": [
    "# to import the modules \n"
   ]
  },
  {
   "cell_type": "code",
   "execution_count": 5,
   "id": "68390628",
   "metadata": {},
   "outputs": [
    {
     "ename": "SyntaxError",
     "evalue": "invalid syntax. Perhaps you forgot a comma? (forecasting.py, line 40)",
     "output_type": "error",
     "traceback": [
      "Traceback \u001b[36m(most recent call last)\u001b[39m:\n",
      "  File \u001b[92mf:\\Time-Series-Forecasting-for-Portfolio-Management-Optimization-\\venv\\Lib\\site-packages\\IPython\\core\\interactiveshell.py:3699\u001b[39m in \u001b[95mrun_code\u001b[39m\n    exec(code_obj, self.user_global_ns, self.user_ns)\n",
      "\u001b[36m  \u001b[39m\u001b[36mCell\u001b[39m\u001b[36m \u001b[39m\u001b[32mIn[5]\u001b[39m\u001b[32m, line 1\u001b[39m\n\u001b[31m    \u001b[39m\u001b[31mfrom src import forecasting\u001b[39m\n",
      "  \u001b[36mFile \u001b[39m\u001b[32mf:\\Time-Series-Forecasting-for-Portfolio-Management-Optimization-\\src\\forecasting.py:40\u001b[39m\n\u001b[31m    \u001b[39m\u001b[31merror_action='ignore', suppress_warnings=True\u001b[39m\n                                             ^\n\u001b[31mSyntaxError\u001b[39m\u001b[31m:\u001b[39m invalid syntax. Perhaps you forgot a comma?\n"
     ]
    }
   ],
   "source": [
    "from src import forecasting\n",
    "from src.forecasting import load_tesla_data, train_test_split, fit_arima_model, forecast_future, plot_forecast, analyze_forecast"
   ]
  },
  {
   "cell_type": "markdown",
   "id": "b8ff7923",
   "metadata": {},
   "source": [
    "# load TESLA Data"
   ]
  },
  {
   "cell_type": "code",
   "execution_count": 4,
   "id": "d0490d28",
   "metadata": {},
   "outputs": [],
   "source": [
    "\n",
    "# Load Tesla data\n",
    "file_path = 'F:/Time-Series-Forecasting-for-Portfolio-Management-Optimization-/data/scrap data/TSLA_data.csv'\n",
    "output_dir = \"data/output\"\n",
    "os.makedirs(output_dir, exist_ok=True)\n",
    "df = load_tesla_data(file_path)"
   ]
  },
  {
   "cell_type": "markdown",
   "id": "021b89ad",
   "metadata": {},
   "source": [
    "# split Data"
   ]
  },
  {
   "cell_type": "code",
   "execution_count": 6,
   "id": "e4e91f5c",
   "metadata": {},
   "outputs": [
    {
     "ename": "KeyError",
     "evalue": "'Adj Close'",
     "output_type": "error",
     "traceback": [
      "\u001b[31m---------------------------------------------------------------------------\u001b[39m",
      "\u001b[31mKeyError\u001b[39m                                  Traceback (most recent call last)",
      "\u001b[36mFile \u001b[39m\u001b[32mf:\\Time-Series-Forecasting-for-Portfolio-Management-Optimization-\\venv\\Lib\\site-packages\\pandas\\core\\indexes\\base.py:3812\u001b[39m, in \u001b[36mIndex.get_loc\u001b[39m\u001b[34m(self, key)\u001b[39m\n\u001b[32m   3811\u001b[39m \u001b[38;5;28;01mtry\u001b[39;00m:\n\u001b[32m-> \u001b[39m\u001b[32m3812\u001b[39m     \u001b[38;5;28;01mreturn\u001b[39;00m \u001b[38;5;28;43mself\u001b[39;49m\u001b[43m.\u001b[49m\u001b[43m_engine\u001b[49m\u001b[43m.\u001b[49m\u001b[43mget_loc\u001b[49m\u001b[43m(\u001b[49m\u001b[43mcasted_key\u001b[49m\u001b[43m)\u001b[49m\n\u001b[32m   3813\u001b[39m \u001b[38;5;28;01mexcept\u001b[39;00m \u001b[38;5;167;01mKeyError\u001b[39;00m \u001b[38;5;28;01mas\u001b[39;00m err:\n",
      "\u001b[36mFile \u001b[39m\u001b[32mpandas/_libs/index.pyx:167\u001b[39m, in \u001b[36mpandas._libs.index.IndexEngine.get_loc\u001b[39m\u001b[34m()\u001b[39m\n",
      "\u001b[36mFile \u001b[39m\u001b[32mpandas/_libs/index.pyx:196\u001b[39m, in \u001b[36mpandas._libs.index.IndexEngine.get_loc\u001b[39m\u001b[34m()\u001b[39m\n",
      "\u001b[36mFile \u001b[39m\u001b[32mpandas/_libs/hashtable_class_helper.pxi:7088\u001b[39m, in \u001b[36mpandas._libs.hashtable.PyObjectHashTable.get_item\u001b[39m\u001b[34m()\u001b[39m\n",
      "\u001b[36mFile \u001b[39m\u001b[32mpandas/_libs/hashtable_class_helper.pxi:7096\u001b[39m, in \u001b[36mpandas._libs.hashtable.PyObjectHashTable.get_item\u001b[39m\u001b[34m()\u001b[39m\n",
      "\u001b[31mKeyError\u001b[39m: 'Adj Close'",
      "\nThe above exception was the direct cause of the following exception:\n",
      "\u001b[31mKeyError\u001b[39m                                  Traceback (most recent call last)",
      "\u001b[36mCell\u001b[39m\u001b[36m \u001b[39m\u001b[32mIn[6]\u001b[39m\u001b[32m, line 3\u001b[39m\n\u001b[32m      1\u001b[39m \u001b[38;5;66;03m#from sklearn.model_selection import train_test_split\u001b[39;00m\n\u001b[32m      2\u001b[39m \u001b[38;5;66;03m# Split the data into training and testing sets\u001b[39;00m\n\u001b[32m----> \u001b[39m\u001b[32m3\u001b[39m train_data, test_data = \u001b[43mtrain_test_split\u001b[49m\u001b[43m(\u001b[49m\u001b[43mdf\u001b[49m\u001b[43m)\u001b[49m\n",
      "\u001b[36mFile \u001b[39m\u001b[32mf:\\Time-Series-Forecasting-for-Portfolio-Management-Optimization-\\src\\forecasting.py:23\u001b[39m, in \u001b[36mtrain_test_split\u001b[39m\u001b[34m(df, test_months)\u001b[39m\n\u001b[32m     21\u001b[39m \n\u001b[32m     22\u001b[39m def train_test_split(df, test_months=6):\n\u001b[32m---> \u001b[39m\u001b[32m23\u001b[39m     train_end = len(df) - test_months * 21  # Approx. 21 trading days per month\n\u001b[32m     24\u001b[39m     train_data = df['Close'].iloc[:train_end]\n\u001b[32m     25\u001b[39m     test_data = df['Close'].iloc[train_end:]\n",
      "\u001b[36mFile \u001b[39m\u001b[32mf:\\Time-Series-Forecasting-for-Portfolio-Management-Optimization-\\venv\\Lib\\site-packages\\pandas\\core\\frame.py:4107\u001b[39m, in \u001b[36mDataFrame.__getitem__\u001b[39m\u001b[34m(self, key)\u001b[39m\n\u001b[32m   4105\u001b[39m \u001b[38;5;28;01mif\u001b[39;00m \u001b[38;5;28mself\u001b[39m.columns.nlevels > \u001b[32m1\u001b[39m:\n\u001b[32m   4106\u001b[39m     \u001b[38;5;28;01mreturn\u001b[39;00m \u001b[38;5;28mself\u001b[39m._getitem_multilevel(key)\n\u001b[32m-> \u001b[39m\u001b[32m4107\u001b[39m indexer = \u001b[38;5;28;43mself\u001b[39;49m\u001b[43m.\u001b[49m\u001b[43mcolumns\u001b[49m\u001b[43m.\u001b[49m\u001b[43mget_loc\u001b[49m\u001b[43m(\u001b[49m\u001b[43mkey\u001b[49m\u001b[43m)\u001b[49m\n\u001b[32m   4108\u001b[39m \u001b[38;5;28;01mif\u001b[39;00m is_integer(indexer):\n\u001b[32m   4109\u001b[39m     indexer = [indexer]\n",
      "\u001b[36mFile \u001b[39m\u001b[32mf:\\Time-Series-Forecasting-for-Portfolio-Management-Optimization-\\venv\\Lib\\site-packages\\pandas\\core\\indexes\\base.py:3819\u001b[39m, in \u001b[36mIndex.get_loc\u001b[39m\u001b[34m(self, key)\u001b[39m\n\u001b[32m   3814\u001b[39m     \u001b[38;5;28;01mif\u001b[39;00m \u001b[38;5;28misinstance\u001b[39m(casted_key, \u001b[38;5;28mslice\u001b[39m) \u001b[38;5;129;01mor\u001b[39;00m (\n\u001b[32m   3815\u001b[39m         \u001b[38;5;28misinstance\u001b[39m(casted_key, abc.Iterable)\n\u001b[32m   3816\u001b[39m         \u001b[38;5;129;01mand\u001b[39;00m \u001b[38;5;28many\u001b[39m(\u001b[38;5;28misinstance\u001b[39m(x, \u001b[38;5;28mslice\u001b[39m) \u001b[38;5;28;01mfor\u001b[39;00m x \u001b[38;5;129;01min\u001b[39;00m casted_key)\n\u001b[32m   3817\u001b[39m     ):\n\u001b[32m   3818\u001b[39m         \u001b[38;5;28;01mraise\u001b[39;00m InvalidIndexError(key)\n\u001b[32m-> \u001b[39m\u001b[32m3819\u001b[39m     \u001b[38;5;28;01mraise\u001b[39;00m \u001b[38;5;167;01mKeyError\u001b[39;00m(key) \u001b[38;5;28;01mfrom\u001b[39;00m\u001b[38;5;250m \u001b[39m\u001b[34;01merr\u001b[39;00m\n\u001b[32m   3820\u001b[39m \u001b[38;5;28;01mexcept\u001b[39;00m \u001b[38;5;167;01mTypeError\u001b[39;00m:\n\u001b[32m   3821\u001b[39m     \u001b[38;5;66;03m# If we have a listlike key, _check_indexing_error will raise\u001b[39;00m\n\u001b[32m   3822\u001b[39m     \u001b[38;5;66;03m#  InvalidIndexError. Otherwise we fall through and re-raise\u001b[39;00m\n\u001b[32m   3823\u001b[39m     \u001b[38;5;66;03m#  the TypeError.\u001b[39;00m\n\u001b[32m   3824\u001b[39m     \u001b[38;5;28mself\u001b[39m._check_indexing_error(key)\n",
      "\u001b[31mKeyError\u001b[39m: 'Adj Close'"
     ]
    }
   ],
   "source": [
    "#from sklearn.model_selection import train_test_split\n",
    "# Split the data into training and testing sets\n",
    "train_data, test_data = train_test_split(df)\n"
   ]
  },
  {
   "cell_type": "markdown",
   "id": "a81c6f1a",
   "metadata": {},
   "source": [
    " # Train model & forecast\n",
    "   "
   ]
  },
  {
   "cell_type": "code",
   "execution_count": null,
   "id": "337d963a",
   "metadata": {},
   "outputs": [],
   "source": [
    "# Train model & forecast\n",
    "model = fit_arima_model(train_data)"
   ]
  },
  {
   "cell_type": "markdown",
   "id": "e70d0bbe",
   "metadata": {},
   "source": [
    "## Forecasting "
   ]
  },
  {
   "cell_type": "code",
   "execution_count": null,
   "id": "aa83e788",
   "metadata": {},
   "outputs": [],
   "source": [
    "forecast_series, conf_df = forecast_future(model, df.index[-1], months_ahead=6)"
   ]
  },
  {
   "cell_type": "markdown",
   "id": "bb52e245",
   "metadata": {},
   "source": [
    "# Visualization"
   ]
  },
  {
   "cell_type": "code",
   "execution_count": null,
   "id": "793ce35e",
   "metadata": {},
   "outputs": [],
   "source": [
    " # Plot results\n",
    "plot_forecast(train_data, test_data, forecast_series, conf_df,\n",
    "                os.path.join(output_dir, \"tesla_forecast_6months.png\"))"
   ]
  },
  {
   "cell_type": "markdown",
   "id": "68f2cee6",
   "metadata": {},
   "source": [
    "# save the result "
   ]
  },
  {
   "cell_type": "code",
   "execution_count": null,
   "id": "b6f1c0f5",
   "metadata": {},
   "outputs": [],
   "source": [
    "# Save forecast data\n",
    "forecast_results = pd.concat([forecast_series, conf_df], axis=1)\n",
    "forecast_results.columns = ['Forecast', 'Lower', 'Upper']\n",
    "forecast_results.to_csv(os.path.join(output_dir, \"tesla_forecast_6months.csv\"))\n"
   ]
  },
  {
   "cell_type": "markdown",
   "id": "dc02bc90",
   "metadata": {},
   "source": [
    "Analyzing and keeping  analysis"
   ]
  },
  {
   "cell_type": "code",
   "execution_count": null,
   "id": "855018ab",
   "metadata": {},
   "outputs": [],
   "source": [
    "# Analyze and save analysis\n",
    "last_actual_price = df['Adj Close'].iloc[-1]\n",
    "analysis_text = analyze_forecast(forecast_series, conf_df, last_actual_price)\n",
    "with open(os.path.join(output_dir, \"tesla_forecast_analysis.txt\"), \"w\") as f:\n",
    "        f.write(analysis_text)\n",
    "\n",
    "print(analysis_text)"
   ]
  }
 ],
 "metadata": {
  "kernelspec": {
   "display_name": "venv",
   "language": "python",
   "name": "python3"
  },
  "language_info": {
   "codemirror_mode": {
    "name": "ipython",
    "version": 3
   },
   "file_extension": ".py",
   "mimetype": "text/x-python",
   "name": "python",
   "nbconvert_exporter": "python",
   "pygments_lexer": "ipython3",
   "version": "3.12.0"
  }
 },
 "nbformat": 4,
 "nbformat_minor": 5
}

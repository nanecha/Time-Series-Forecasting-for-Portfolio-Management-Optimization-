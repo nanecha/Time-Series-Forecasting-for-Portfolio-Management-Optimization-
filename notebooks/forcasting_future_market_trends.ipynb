{
 "cells": [
  {
   "cell_type": "markdown",
   "id": "5b19112a",
   "metadata": {},
   "source": [
    "# Task 3 forecasting and analysis"
   ]
  },
  {
   "cell_type": "code",
   "execution_count": 1,
   "id": "74092898",
   "metadata": {},
   "outputs": [],
   "source": [
    "import pandas as pd\n",
    "import numpy as np\n",
    "import matplotlib.pyplot as plt\n",
    "from pmdarima import auto_arima\n",
    "import os\n",
    "from datetime import datetime, timedelta\n",
    "from statsmodels.tsa.statespace.sarimax import SARIMAX\n",
    "import warnings\n",
    "warnings.filterwarnings('ignore')\n",
    "\n",
    "import os\n",
    "from datetime import datetime\n",
    "import sys\n",
    "sys.path.append(os.path.abspath(os.path.join(os.getcwd(), '..')))"
   ]
  },
  {
   "cell_type": "code",
   "execution_count": null,
   "id": "d1177f88",
   "metadata": {},
   "outputs": [],
   "source": [
    "def main():\n",
    "    \"\"\"\n",
    "    Main function to execute Task 3 forecasting and analysis.\n",
    "    \"\"\"\n",
    "    # Parameters\n",
    "    data_path = 'F:/Time-Series-Forecasting-for-Portfolio-Management-Optimization-/data/TSLA_data.csv'\n",
    "    end_date = '2025-07-30'\n",
    "    forecast_steps = 252  # 12 months of trading days\n",
    "    output_dir = 'data/output'\n",
    "    plot_dir = 'plots/forecasting'\n",
    "    \n",
    "    # Load and prepare data\n",
    "    data = load_and_prepare_data(data_path, end_date)\n",
    "    if data is None:\n",
    "        return\n",
    "    \n",
    "    # Fit ARIMA model\n",
    "    arima_model = fit_arima_model(data)\n",
    "    if arima_model is None:\n",
    "        return\n",
    "    \n",
    "    # Generate forecast\n",
    "    forecast_df = forecast_arima(arima_model, forecast_steps=forecast_steps, start_date='2025-07-31')\n",
    "    if forecast_df is None:\n",
    "        return\n",
    "    \n",
    "    # Visualize forecast\n",
    "    visualize_forecast(data, forecast_df, output_dir=plot_dir)\n",
    "    \n",
    "    # Analyze forecast\n",
    "    analyze_forecast(forecast_df, output_dir=output_dir)"
   ]
  }
 ],
 "metadata": {
  "kernelspec": {
   "display_name": "venv",
   "language": "python",
   "name": "python3"
  },
  "language_info": {
   "codemirror_mode": {
    "name": "ipython",
    "version": 3
   },
   "file_extension": ".py",
   "mimetype": "text/x-python",
   "name": "python",
   "nbconvert_exporter": "python",
   "pygments_lexer": "ipython3",
   "version": "3.12.0"
  }
 },
 "nbformat": 4,
 "nbformat_minor": 5
}

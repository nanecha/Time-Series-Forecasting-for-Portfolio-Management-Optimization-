{
 "cells": [
  {
   "cell_type": "markdown",
   "id": "338eb233",
   "metadata": {},
   "source": [
    "\"\"\"\n",
    "Task 4 — Portfolio Optimization using MPT\n",
    "- TSLA expected return from forecast (Task 3)\n",
    "- BND/SPY expected returns from historical averages (annualized)\n",
    "- Covariance from historical daily returns (TSLA/BND/SPY)\n",
    "- Efficient Frontier (Monte Carlo), Max Sharpe & Min Volatility\n",
    "- Outputs plot + CSV + summary report\n",
    "\n",
    "Required inputs:\n",
    "- CSV with historical OHLCV for TSLA, BND, SPY (must contain 'Date' and 'Adj Close')\n",
    "- CSV with TSLA forecast from Task 3 (columns: Forecast, Lower, Upper; index as dates)\n",
    "\"\"\""
   ]
  },
  {
   "cell_type": "code",
   "execution_count": null,
   "id": "7ef54f57",
   "metadata": {},
   "outputs": [],
   "source": [
    "#import  dependences\n",
    "import json\n",
    "import numpy as np\n",
    "import pandas as pd\n",
    "import matplotlib.pyplot as plt\n",
    "import os\n",
    "from datetime import datetime\n",
    "import sys\n",
    "sys.path.append(os.path.abspath(os.path.join(os.getcwd(), '..')))"
   ]
  },
  {
   "cell_type": "code",
   "execution_count": null,
   "id": "4ff5029b",
   "metadata": {},
   "outputs": [],
   "source": [
    "# -----------------------------\n",
    "# 0) Config\n",
    "# -----------------------------\n",
    "CONFIG = {\n",
    "    # Paths to historical CSVs (from Task 1)\n",
    "    \"tsla_hist_csv\": \"data/scrap data/TSLA_data.csv\",\n",
    "    \"bnd_hist_csv\":  \"data/scrap data/BND_data.csv\",\n",
    "    \"spy_hist_csv\":  \"data/scrap data/SPY_data.csv\",\n",
    "\n",
    "    # Path to TSLA forecast results (from Task 3)\n",
    "    \"tsla_forecast_csv\": \"data/output/tesla_forecast_6months.csv\",  # columns: Forecast, Lower, Upper\n",
    "\n",
    "    # Columns\n",
    "    \"date_col\": \"Date\",\n",
    "    \"price_col\": \"Adj Close\",  # fallback to 'Close' if not present\n",
    "\n",
    "    # Output\n",
    "    \"output_dir\": \"data/output\",\n",
    "    \"frontier_png\": \"efficient_frontier.png\",\n",
    "    \"frontier_csv\": \"efficient_frontier_samples.csv\",\n",
    "    \"summary_json\": \"portfolio_summary.json\",\n",
    "    \"summary_txt\": \"portfolio_summary.txt\",\n",
    "\n",
    "    # Simulation\n",
    "    \"n_portfolios\": 50000,\n",
    "    \"risk_free_rate\": 0.02,  # annualized\n",
    "    \"trading_days\": 252\n",
    "}"
   ]
  }
 ],
 "metadata": {
  "kernelspec": {
   "display_name": "venv",
   "language": "python",
   "name": "python3"
  },
  "language_info": {
   "name": "python",
   "version": "3.12.0"
  }
 },
 "nbformat": 4,
 "nbformat_minor": 5
}

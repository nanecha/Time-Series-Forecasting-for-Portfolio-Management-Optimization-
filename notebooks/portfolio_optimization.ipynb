{
 "cells": [
  {
   "cell_type": "markdown",
   "id": "338eb233",
   "metadata": {},
   "source": [
    "\"\"\"\n",
    "Task 4 — Portfolio Optimization using MPT\n",
    "- TSLA expected return from forecast (Task 3)\n",
    "- BND/SPY expected returns from historical averages (annualized)\n",
    "- Covariance from historical daily returns (TSLA/BND/SPY)\n",
    "- Efficient Frontier (Monte Carlo), Max Sharpe & Min Volatility\n",
    "- Outputs plot + CSV + summary report\n",
    "\n",
    "Required inputs:\n",
    "- CSV with historical OHLCV for TSLA, BND, SPY (must contain 'Date' and 'Adj Close')\n",
    "- CSV with TSLA forecast from Task 3 (columns: Forecast, Lower, Upper; index as dates)\n",
    "\"\"\""
   ]
  },
  {
   "cell_type": "code",
   "execution_count": 1,
   "id": "7ef54f57",
   "metadata": {},
   "outputs": [],
   "source": [
    "#import  dependences\n",
    "import json\n",
    "import numpy as np\n",
    "import pandas as pd\n",
    "import matplotlib.pyplot as plt\n",
    "import os\n",
    "from datetime import datetime\n",
    "import sys\n",
    "sys.path.append(os.path.abspath(os.path.join(os.getcwd(), '..')))"
   ]
  },
  {
   "cell_type": "markdown",
   "id": "be44b76b",
   "metadata": {},
   "source": [
    "# loaded function from the module"
   ]
  },
  {
   "cell_type": "code",
   "execution_count": 2,
   "id": "3f50ab3a",
   "metadata": {},
   "outputs": [],
   "source": [
    "from src import portfolio_optimization\n",
    "from src.portfolio_optimization import load_historical_prices,covariance_matrix_annual,compute_daily_returns,load_tsla_expected_return_from_forecast,expected_returns_annual,simulate_portfolios,pick_key_portfolios,plot_efficient_frontier,recommend_portfolio,write_summary"
   ]
  },
  {
   "cell_type": "code",
   "execution_count": 5,
   "id": "08161c82",
   "metadata": {},
   "outputs": [],
   "source": [
    "CONFIG = {\n",
    "    # Paths to historical CSVs (from Task 1)\n",
    "    \"tsla_hist_csv\": \"F:/Time-Series-Forecasting-for-Portfolio-Management-Optimization-/data/scrap data/TSLA_data.csv\",\n",
    "    \"bnd_hist_csv\":  \"F:/Time-Series-Forecasting-for-Portfolio-Management-Optimization-/data/scrap data/BND_data.csv\",\n",
    "    \"spy_hist_csv\":  \"F:/Time-Series-Forecasting-for-Portfolio-Management-Optimization-/data/scrap data/SPY_data.csv\",\n",
    "\n",
    "    # Path to TSLA forecast results (from Task 3)\n",
    "    \"tsla_forecast_csv\": \"F:/Time-Series-Forecasting-for-Portfolio-Management-Optimization-/data/output/data/output/tesla_forecast_6months.csv\",  # columns: Forecast, Lower, Upper\n",
    "\n",
    "    # Columns\n",
    "    \"date_col\": \"Date\",\n",
    "    \"price_col\": \"Close\",  # fallback to 'Close' if not present\n",
    "\n",
    "    # Output\n",
    "    \"output_dir\": \"data/output\",\n",
    "    \"frontier_png\": \"efficient_frontier.png\",\n",
    "    \"frontier_csv\": \"efficient_frontier_samples.csv\",\n",
    "    \"summary_json\": \"portfolio_summary.json\",\n",
    "    \"summary_txt\": \"portfolio_summary.txt\",\n",
    "\n",
    "    # Simulation\n",
    "    \"n_portfolios\": 50000,\n",
    "    \"risk_free_rate\": 0.02,  # annualized\n",
    "    \"trading_days\": 252\n",
    "}\n"
   ]
  },
  {
   "cell_type": "markdown",
   "id": "86b9e0e3",
   "metadata": {},
   "source": [
    "## loading of historical data"
   ]
  },
  {
   "cell_type": "code",
   "execution_count": 17,
   "id": "e489003d",
   "metadata": {},
   "outputs": [],
   "source": [
    "#cfg=CONFIG, preference=\"max_sharpe\"\n",
    "preference=\"max_sharpe\"\n",
    " # Load historical prices\n",
    "prices = load_historical_prices()\n"
   ]
  },
  {
   "cell_type": "code",
   "execution_count": 23,
   "id": "0a780068",
   "metadata": {},
   "outputs": [
    {
     "name": "stdout",
     "output_type": "stream",
     "text": [
      "   Unnamed: 0  Forecast       Lower       Upper\n",
      "0  2025-07-31       NaN  383.829618  409.226489\n",
      "1  2025-08-01       NaN  379.811858  415.728457\n",
      "2  2025-08-04       NaN  378.827251  422.815922\n",
      "3  2025-08-05       NaN  375.551228  426.344970\n",
      "4  2025-08-06       NaN  369.803312  426.592443\n",
      "5  2025-08-07       NaN  366.010213  428.219588\n",
      "6  2025-08-08       NaN  362.047036  429.240841\n",
      "7  2025-08-11       NaN  356.926803  428.760002\n",
      "8  2025-08-12       NaN  357.873896  434.064510\n",
      "9  2025-08-13       NaN  355.700228  436.012186\n"
     ]
    }
   ],
   "source": [
    "df=pd.read_csv('F:/Time-Series-Forecasting-for-Portfolio-Management-Optimization-/data/tesla_forecast_6months.csv')  # columns: Forecast, Lower, Upper\n",
    "print(df.head(10))\n",
    "# print(forecasted_tsla.isna().sum())\n",
    "\n"
   ]
  },
  {
   "cell_type": "markdown",
   "id": "838bc924",
   "metadata": {},
   "source": [
    "# daily return"
   ]
  },
  {
   "cell_type": "code",
   "execution_count": 4,
   "id": "4ff5029b",
   "metadata": {},
   "outputs": [
    {
     "name": "stdout",
     "output_type": "stream",
     "text": [
      "                TSLA       BND       SPY\n",
      "Date                                    \n",
      "2015-07-02  0.040386  0.002472 -0.000916\n",
      "2015-07-06 -0.001071  0.003452 -0.002846\n",
      "2015-07-07 -0.042328  0.000984  0.006288\n",
      "2015-07-08 -0.048231  0.002824 -0.016777\n",
      "2015-07-09  0.011610 -0.003306  0.001809\n",
      "...              ...       ...       ...\n",
      "2025-07-24 -0.081970 -0.001232  0.000331\n",
      "2025-07-25  0.035244  0.002468  0.004224\n",
      "2025-07-28  0.030152 -0.001641 -0.000251\n",
      "2025-07-29 -0.013483  0.005205 -0.002638\n",
      "2025-07-30 -0.006725 -0.002589 -0.001259\n",
      "\n",
      "[2534 rows x 3 columns]\n"
     ]
    }
   ],
   "source": [
    "# -----------------------------\n",
    "# 6) Main\n",
    "# -----------------------------\n",
    "\n",
    "    # Daily returns (for covariance)\n",
    "daily_returns = compute_daily_returns(prices)\n",
    "print(daily_returns)\n",
    "\n"
   ]
  },
  {
   "cell_type": "markdown",
   "id": "afcf7d4a",
   "metadata": {},
   "source": [
    "# Expected Annual Return"
   ]
  },
  {
   "cell_type": "code",
   "execution_count": 5,
   "id": "432aaf09",
   "metadata": {},
   "outputs": [
    {
     "name": "stdout",
     "output_type": "stream",
     "text": [
      "nan\n"
     ]
    },
    {
     "name": "stderr",
     "output_type": "stream",
     "text": [
      "f:\\Time-Series-Forecasting-for-Portfolio-Management-Optimization-\\src\\portfolio_optimization.py:92: FutureWarning: The default fill_method='pad' in Series.pct_change is deprecated and will be removed in a future version. Either fill in any non-leading NA values prior to calling pct_change or specify 'fill_method=None' to not fill NA values.\n",
      "  daily_ret = forecast.pct_change().dropna()\n"
     ]
    }
   ],
   "source": [
    "\n",
    "    # TSLA expected annual return from forecast\n",
    "tsla_exp_ann = load_tsla_expected_return_from_forecast()\n",
    "print(tsla_exp_ann)\n"
   ]
  },
  {
   "cell_type": "markdown",
   "id": "3da73e96",
   "metadata": {},
   "source": [
    " # Expected returns vecto"
   ]
  },
  {
   "cell_type": "code",
   "execution_count": 7,
   "id": "ddf8d47b",
   "metadata": {},
   "outputs": [
    {
     "name": "stdout",
     "output_type": "stream",
     "text": [
      "TSLA         NaN\n",
      "BND     0.019599\n",
      "SPY     0.144844\n",
      "dtype: float64\n"
     ]
    }
   ],
   "source": [
    "\n",
    "    # Expected returns vector\n",
    "exp_ann = expected_returns_annual(daily_returns, tsla_exp_ann)\n",
    "print(exp_ann)"
   ]
  },
  {
   "cell_type": "markdown",
   "id": "33333e5e",
   "metadata": {},
   "source": [
    " # Annualized covariance matrix"
   ]
  },
  {
   "cell_type": "code",
   "execution_count": 10,
   "id": "729aabd4",
   "metadata": {},
   "outputs": [
    {
     "name": "stdout",
     "output_type": "stream",
     "text": [
      "          TSLA       BND       SPY\n",
      "TSLA  0.350331  0.001861  0.052950\n",
      "BND   0.001861  0.003016  0.001150\n",
      "SPY   0.052950  0.001150  0.033272\n"
     ]
    }
   ],
   "source": [
    "    # Annualized covariance matrix\n",
    "cov_ann = covariance_matrix_annual(daily_returns)\n",
    "print(cov_ann.head(10))"
   ]
  },
  {
   "cell_type": "markdown",
   "id": "9a3e9d57",
   "metadata": {},
   "source": [
    "# Frontier "
   ]
  },
  {
   "cell_type": "code",
   "execution_count": null,
   "id": "43440c77",
   "metadata": {},
   "outputs": [],
   "source": [
    "\n",
    "# Simulate frontier\n",
    "frontier = simulate_portfolios(exp_ann, cov_ann)\n",
    "os.makedirs(\"output_dir\", exist_ok=True)\n",
    "frontier.to_csv(os.path.join(\"output_dir\", \"frontier_csv\"), index=False)\n"
   ]
  },
  {
   "cell_type": "code",
   "execution_count": 14,
   "id": "e4d697fc",
   "metadata": {},
   "outputs": [
    {
     "data": {
      "text/html": [
       "<div>\n",
       "<style scoped>\n",
       "    .dataframe tbody tr th:only-of-type {\n",
       "        vertical-align: middle;\n",
       "    }\n",
       "\n",
       "    .dataframe tbody tr th {\n",
       "        vertical-align: top;\n",
       "    }\n",
       "\n",
       "    .dataframe thead th {\n",
       "        text-align: right;\n",
       "    }\n",
       "</style>\n",
       "<table border=\"1\" class=\"dataframe\">\n",
       "  <thead>\n",
       "    <tr style=\"text-align: right;\">\n",
       "      <th></th>\n",
       "      <th>Volatility</th>\n",
       "      <th>Return</th>\n",
       "      <th>Sharpe</th>\n",
       "      <th>TSLA</th>\n",
       "      <th>BND</th>\n",
       "      <th>SPY</th>\n",
       "    </tr>\n",
       "  </thead>\n",
       "  <tbody>\n",
       "    <tr>\n",
       "      <th>0</th>\n",
       "      <td>0.101224</td>\n",
       "      <td>NaN</td>\n",
       "      <td>NaN</td>\n",
       "      <td>0.051699</td>\n",
       "      <td>0.538750</td>\n",
       "      <td>0.409550</td>\n",
       "    </tr>\n",
       "    <tr>\n",
       "      <th>1</th>\n",
       "      <td>0.140753</td>\n",
       "      <td>NaN</td>\n",
       "      <td>NaN</td>\n",
       "      <td>0.111989</td>\n",
       "      <td>0.385461</td>\n",
       "      <td>0.502551</td>\n",
       "    </tr>\n",
       "    <tr>\n",
       "      <th>2</th>\n",
       "      <td>0.318015</td>\n",
       "      <td>NaN</td>\n",
       "      <td>NaN</td>\n",
       "      <td>0.517683</td>\n",
       "      <td>0.379456</td>\n",
       "      <td>0.102861</td>\n",
       "    </tr>\n",
       "    <tr>\n",
       "      <th>3</th>\n",
       "      <td>0.195407</td>\n",
       "      <td>NaN</td>\n",
       "      <td>NaN</td>\n",
       "      <td>0.245036</td>\n",
       "      <td>0.346608</td>\n",
       "      <td>0.408356</td>\n",
       "    </tr>\n",
       "    <tr>\n",
       "      <th>4</th>\n",
       "      <td>0.075054</td>\n",
       "      <td>NaN</td>\n",
       "      <td>NaN</td>\n",
       "      <td>0.004435</td>\n",
       "      <td>0.665802</td>\n",
       "      <td>0.329762</td>\n",
       "    </tr>\n",
       "  </tbody>\n",
       "</table>\n",
       "</div>"
      ],
      "text/plain": [
       "   Volatility  Return  Sharpe      TSLA       BND       SPY\n",
       "0    0.101224     NaN     NaN  0.051699  0.538750  0.409550\n",
       "1    0.140753     NaN     NaN  0.111989  0.385461  0.502551\n",
       "2    0.318015     NaN     NaN  0.517683  0.379456  0.102861\n",
       "3    0.195407     NaN     NaN  0.245036  0.346608  0.408356\n",
       "4    0.075054     NaN     NaN  0.004435  0.665802  0.329762"
      ]
     },
     "execution_count": 14,
     "metadata": {},
     "output_type": "execute_result"
    }
   ],
   "source": [
    "\n",
    "frontier.head()"
   ]
  },
  {
   "cell_type": "markdown",
   "id": "5ce7b369",
   "metadata": {},
   "source": [
    "# Key portfolios"
   ]
  },
  {
   "cell_type": "code",
   "execution_count": 18,
   "id": "2312fb86",
   "metadata": {},
   "outputs": [
    {
     "name": "stderr",
     "output_type": "stream",
     "text": [
      "f:\\Time-Series-Forecasting-for-Portfolio-Management-Optimization-\\src\\portfolio_optimization.py:157: FutureWarning: The behavior of Series.idxmax with all-NA values, or any-NA and skipna=False, is deprecated. In a future version this will raise ValueError\n",
      "  i_max_sharpe = frontier_df[\"Sharpe\"].idxmax()\n"
     ]
    },
    {
     "ename": "KeyError",
     "evalue": "nan",
     "output_type": "error",
     "traceback": [
      "\u001b[31m---------------------------------------------------------------------------\u001b[39m",
      "\u001b[31mKeyError\u001b[39m                                  Traceback (most recent call last)",
      "\u001b[36mCell\u001b[39m\u001b[36m \u001b[39m\u001b[32mIn[18]\u001b[39m\u001b[32m, line 2\u001b[39m\n\u001b[32m      1\u001b[39m \u001b[38;5;66;03m# Key portfolios\u001b[39;00m\n\u001b[32m----> \u001b[39m\u001b[32m2\u001b[39m max_sharpe, min_vol = \u001b[43mpick_key_portfolios\u001b[49m\u001b[43m(\u001b[49m\u001b[43mfrontier\u001b[49m\u001b[43m)\u001b[49m\n",
      "\u001b[36mFile \u001b[39m\u001b[32mf:\\Time-Series-Forecasting-for-Portfolio-Management-Optimization-\\src\\portfolio_optimization.py:160\u001b[39m, in \u001b[36mpick_key_portfolios\u001b[39m\u001b[34m(frontier_df, tickers)\u001b[39m\n\u001b[32m    157\u001b[39m i_max_sharpe = frontier_df[\u001b[33m\"\u001b[39m\u001b[33mSharpe\u001b[39m\u001b[33m\"\u001b[39m].idxmax()\n\u001b[32m    158\u001b[39m i_min_vol    = frontier_df[\u001b[33m\"\u001b[39m\u001b[33mVolatility\u001b[39m\u001b[33m\"\u001b[39m].idxmin()\n\u001b[32m--> \u001b[39m\u001b[32m160\u001b[39m max_sharpe = \u001b[43mfrontier_df\u001b[49m\u001b[43m.\u001b[49m\u001b[43mloc\u001b[49m\u001b[43m[\u001b[49m\u001b[43mi_max_sharpe\u001b[49m\u001b[43m,\u001b[49m\u001b[43m \u001b[49m\u001b[43m[\u001b[49m\u001b[33;43m\"\u001b[39;49m\u001b[33;43mVolatility\u001b[39;49m\u001b[33;43m\"\u001b[39;49m\u001b[43m,\u001b[49m\u001b[33;43m\"\u001b[39;49m\u001b[33;43mReturn\u001b[39;49m\u001b[33;43m\"\u001b[39;49m\u001b[43m,\u001b[49m\u001b[33;43m\"\u001b[39;49m\u001b[33;43mSharpe\u001b[39;49m\u001b[33;43m\"\u001b[39;49m\u001b[43m,\u001b[49m\u001b[43m \u001b[49m\u001b[43m*\u001b[49m\u001b[43mtickers\u001b[49m\u001b[43m]\u001b[49m\u001b[43m]\u001b[49m.to_dict()\n\u001b[32m    161\u001b[39m min_vol    = frontier_df.loc[i_min_vol,    [\u001b[33m\"\u001b[39m\u001b[33mVolatility\u001b[39m\u001b[33m\"\u001b[39m,\u001b[33m\"\u001b[39m\u001b[33mReturn\u001b[39m\u001b[33m\"\u001b[39m,\u001b[33m\"\u001b[39m\u001b[33mSharpe\u001b[39m\u001b[33m\"\u001b[39m, *tickers]].to_dict()\n\u001b[32m    162\u001b[39m \u001b[38;5;28;01mreturn\u001b[39;00m max_sharpe, min_vol\n",
      "\u001b[36mFile \u001b[39m\u001b[32mf:\\Time-Series-Forecasting-for-Portfolio-Management-Optimization-\\venv\\Lib\\site-packages\\pandas\\core\\indexing.py:1184\u001b[39m, in \u001b[36m_LocationIndexer.__getitem__\u001b[39m\u001b[34m(self, key)\u001b[39m\n\u001b[32m   1182\u001b[39m     \u001b[38;5;28;01mif\u001b[39;00m \u001b[38;5;28mself\u001b[39m._is_scalar_access(key):\n\u001b[32m   1183\u001b[39m         \u001b[38;5;28;01mreturn\u001b[39;00m \u001b[38;5;28mself\u001b[39m.obj._get_value(*key, takeable=\u001b[38;5;28mself\u001b[39m._takeable)\n\u001b[32m-> \u001b[39m\u001b[32m1184\u001b[39m     \u001b[38;5;28;01mreturn\u001b[39;00m \u001b[38;5;28;43mself\u001b[39;49m\u001b[43m.\u001b[49m\u001b[43m_getitem_tuple\u001b[49m\u001b[43m(\u001b[49m\u001b[43mkey\u001b[49m\u001b[43m)\u001b[49m\n\u001b[32m   1185\u001b[39m \u001b[38;5;28;01melse\u001b[39;00m:\n\u001b[32m   1186\u001b[39m     \u001b[38;5;66;03m# we by definition only have the 0th axis\u001b[39;00m\n\u001b[32m   1187\u001b[39m     axis = \u001b[38;5;28mself\u001b[39m.axis \u001b[38;5;129;01mor\u001b[39;00m \u001b[32m0\u001b[39m\n",
      "\u001b[36mFile \u001b[39m\u001b[32mf:\\Time-Series-Forecasting-for-Portfolio-Management-Optimization-\\venv\\Lib\\site-packages\\pandas\\core\\indexing.py:1368\u001b[39m, in \u001b[36m_LocIndexer._getitem_tuple\u001b[39m\u001b[34m(self, tup)\u001b[39m\n\u001b[32m   1366\u001b[39m \u001b[38;5;28;01mwith\u001b[39;00m suppress(IndexingError):\n\u001b[32m   1367\u001b[39m     tup = \u001b[38;5;28mself\u001b[39m._expand_ellipsis(tup)\n\u001b[32m-> \u001b[39m\u001b[32m1368\u001b[39m     \u001b[38;5;28;01mreturn\u001b[39;00m \u001b[38;5;28;43mself\u001b[39;49m\u001b[43m.\u001b[49m\u001b[43m_getitem_lowerdim\u001b[49m\u001b[43m(\u001b[49m\u001b[43mtup\u001b[49m\u001b[43m)\u001b[49m\n\u001b[32m   1370\u001b[39m \u001b[38;5;66;03m# no multi-index, so validate all of the indexers\u001b[39;00m\n\u001b[32m   1371\u001b[39m tup = \u001b[38;5;28mself\u001b[39m._validate_tuple_indexer(tup)\n",
      "\u001b[36mFile \u001b[39m\u001b[32mf:\\Time-Series-Forecasting-for-Portfolio-Management-Optimization-\\venv\\Lib\\site-packages\\pandas\\core\\indexing.py:1065\u001b[39m, in \u001b[36m_LocationIndexer._getitem_lowerdim\u001b[39m\u001b[34m(self, tup)\u001b[39m\n\u001b[32m   1061\u001b[39m \u001b[38;5;28;01mfor\u001b[39;00m i, key \u001b[38;5;129;01min\u001b[39;00m \u001b[38;5;28menumerate\u001b[39m(tup):\n\u001b[32m   1062\u001b[39m     \u001b[38;5;28;01mif\u001b[39;00m is_label_like(key):\n\u001b[32m   1063\u001b[39m         \u001b[38;5;66;03m# We don't need to check for tuples here because those are\u001b[39;00m\n\u001b[32m   1064\u001b[39m         \u001b[38;5;66;03m#  caught by the _is_nested_tuple_indexer check above.\u001b[39;00m\n\u001b[32m-> \u001b[39m\u001b[32m1065\u001b[39m         section = \u001b[38;5;28;43mself\u001b[39;49m\u001b[43m.\u001b[49m\u001b[43m_getitem_axis\u001b[49m\u001b[43m(\u001b[49m\u001b[43mkey\u001b[49m\u001b[43m,\u001b[49m\u001b[43m \u001b[49m\u001b[43maxis\u001b[49m\u001b[43m=\u001b[49m\u001b[43mi\u001b[49m\u001b[43m)\u001b[49m\n\u001b[32m   1067\u001b[39m         \u001b[38;5;66;03m# We should never have a scalar section here, because\u001b[39;00m\n\u001b[32m   1068\u001b[39m         \u001b[38;5;66;03m#  _getitem_lowerdim is only called after a check for\u001b[39;00m\n\u001b[32m   1069\u001b[39m         \u001b[38;5;66;03m#  is_scalar_access, which that would be.\u001b[39;00m\n\u001b[32m   1070\u001b[39m         \u001b[38;5;28;01mif\u001b[39;00m section.ndim == \u001b[38;5;28mself\u001b[39m.ndim:\n\u001b[32m   1071\u001b[39m             \u001b[38;5;66;03m# we're in the middle of slicing through a MultiIndex\u001b[39;00m\n\u001b[32m   1072\u001b[39m             \u001b[38;5;66;03m# revise the key wrt to `section` by inserting an _NS\u001b[39;00m\n",
      "\u001b[36mFile \u001b[39m\u001b[32mf:\\Time-Series-Forecasting-for-Portfolio-Management-Optimization-\\venv\\Lib\\site-packages\\pandas\\core\\indexing.py:1431\u001b[39m, in \u001b[36m_LocIndexer._getitem_axis\u001b[39m\u001b[34m(self, key, axis)\u001b[39m\n\u001b[32m   1429\u001b[39m \u001b[38;5;66;03m# fall thru to straight lookup\u001b[39;00m\n\u001b[32m   1430\u001b[39m \u001b[38;5;28mself\u001b[39m._validate_key(key, axis)\n\u001b[32m-> \u001b[39m\u001b[32m1431\u001b[39m \u001b[38;5;28;01mreturn\u001b[39;00m \u001b[38;5;28;43mself\u001b[39;49m\u001b[43m.\u001b[49m\u001b[43m_get_label\u001b[49m\u001b[43m(\u001b[49m\u001b[43mkey\u001b[49m\u001b[43m,\u001b[49m\u001b[43m \u001b[49m\u001b[43maxis\u001b[49m\u001b[43m=\u001b[49m\u001b[43maxis\u001b[49m\u001b[43m)\u001b[49m\n",
      "\u001b[36mFile \u001b[39m\u001b[32mf:\\Time-Series-Forecasting-for-Portfolio-Management-Optimization-\\venv\\Lib\\site-packages\\pandas\\core\\indexing.py:1381\u001b[39m, in \u001b[36m_LocIndexer._get_label\u001b[39m\u001b[34m(self, label, axis)\u001b[39m\n\u001b[32m   1379\u001b[39m \u001b[38;5;28;01mdef\u001b[39;00m\u001b[38;5;250m \u001b[39m\u001b[34m_get_label\u001b[39m(\u001b[38;5;28mself\u001b[39m, label, axis: AxisInt):\n\u001b[32m   1380\u001b[39m     \u001b[38;5;66;03m# GH#5567 this will fail if the label is not present in the axis.\u001b[39;00m\n\u001b[32m-> \u001b[39m\u001b[32m1381\u001b[39m     \u001b[38;5;28;01mreturn\u001b[39;00m \u001b[38;5;28;43mself\u001b[39;49m\u001b[43m.\u001b[49m\u001b[43mobj\u001b[49m\u001b[43m.\u001b[49m\u001b[43mxs\u001b[49m\u001b[43m(\u001b[49m\u001b[43mlabel\u001b[49m\u001b[43m,\u001b[49m\u001b[43m \u001b[49m\u001b[43maxis\u001b[49m\u001b[43m=\u001b[49m\u001b[43maxis\u001b[49m\u001b[43m)\u001b[49m\n",
      "\u001b[36mFile \u001b[39m\u001b[32mf:\\Time-Series-Forecasting-for-Portfolio-Management-Optimization-\\venv\\Lib\\site-packages\\pandas\\core\\generic.py:4320\u001b[39m, in \u001b[36mNDFrame.xs\u001b[39m\u001b[34m(self, key, axis, level, drop_level)\u001b[39m\n\u001b[32m   4318\u001b[39m             new_index = index[loc]\n\u001b[32m   4319\u001b[39m \u001b[38;5;28;01melse\u001b[39;00m:\n\u001b[32m-> \u001b[39m\u001b[32m4320\u001b[39m     loc = \u001b[43mindex\u001b[49m\u001b[43m.\u001b[49m\u001b[43mget_loc\u001b[49m\u001b[43m(\u001b[49m\u001b[43mkey\u001b[49m\u001b[43m)\u001b[49m\n\u001b[32m   4322\u001b[39m     \u001b[38;5;28;01mif\u001b[39;00m \u001b[38;5;28misinstance\u001b[39m(loc, np.ndarray):\n\u001b[32m   4323\u001b[39m         \u001b[38;5;28;01mif\u001b[39;00m loc.dtype == np.bool_:\n",
      "\u001b[36mFile \u001b[39m\u001b[32mf:\\Time-Series-Forecasting-for-Portfolio-Management-Optimization-\\venv\\Lib\\site-packages\\pandas\\core\\indexes\\range.py:417\u001b[39m, in \u001b[36mRangeIndex.get_loc\u001b[39m\u001b[34m(self, key)\u001b[39m\n\u001b[32m    415\u001b[39m         \u001b[38;5;28;01mraise\u001b[39;00m \u001b[38;5;167;01mKeyError\u001b[39;00m(key) \u001b[38;5;28;01mfrom\u001b[39;00m\u001b[38;5;250m \u001b[39m\u001b[34;01merr\u001b[39;00m\n\u001b[32m    416\u001b[39m \u001b[38;5;28;01mif\u001b[39;00m \u001b[38;5;28misinstance\u001b[39m(key, Hashable):\n\u001b[32m--> \u001b[39m\u001b[32m417\u001b[39m     \u001b[38;5;28;01mraise\u001b[39;00m \u001b[38;5;167;01mKeyError\u001b[39;00m(key)\n\u001b[32m    418\u001b[39m \u001b[38;5;28mself\u001b[39m._check_indexing_error(key)\n\u001b[32m    419\u001b[39m \u001b[38;5;28;01mraise\u001b[39;00m \u001b[38;5;167;01mKeyError\u001b[39;00m(key)\n",
      "\u001b[31mKeyError\u001b[39m: nan"
     ]
    }
   ],
   "source": [
    "\n",
    "# Key portfolios\n",
    "max_sharpe, min_vol = pick_key_portfolios(frontier)\n"
   ]
  },
  {
   "cell_type": "code",
   "execution_count": 20,
   "id": "5953a4ec",
   "metadata": {},
   "outputs": [
    {
     "ename": "NameError",
     "evalue": "name 'max_sharpe' is not defined",
     "output_type": "error",
     "traceback": [
      "\u001b[31m---------------------------------------------------------------------------\u001b[39m",
      "\u001b[31mNameError\u001b[39m                                 Traceback (most recent call last)",
      "\u001b[36mCell\u001b[39m\u001b[36m \u001b[39m\u001b[32mIn[20]\u001b[39m\u001b[32m, line 2\u001b[39m\n\u001b[32m      1\u001b[39m \u001b[38;5;66;03m# Plot\u001b[39;00m\n\u001b[32m----> \u001b[39m\u001b[32m2\u001b[39m png_path = plot_efficient_frontier(frontier, \u001b[43mmax_sharpe\u001b[49m, min_vol, cfg)\n",
      "\u001b[31mNameError\u001b[39m: name 'max_sharpe' is not defined"
     ]
    }
   ],
   "source": [
    "\n",
    "# Plot\n",
    "png_path = plot_efficient_frontier(frontier, max_sharpe, min_vol, cfg)\n"
   ]
  },
  {
   "cell_type": "code",
   "execution_count": null,
   "id": "05dcdd3b",
   "metadata": {},
   "outputs": [],
   "source": [
    "\n",
    "    # Recommendation (default: max Sharpe)\n",
    "recommended = recommend_portfolio(max_sharpe, min_vol, preference=preference)\n"
   ]
  },
  {
   "cell_type": "code",
   "execution_count": null,
   "id": "5c922b35",
   "metadata": {},
   "outputs": [],
   "source": [
    "\n",
    "    # Write summaries\n",
    "json_path, txt_path = write_summary(exp_ann, cov_ann, max_sharpe, min_vol, recommended, cfg)\n",
    "\n",
    "print(\"\\n=== Outputs ===\")\n",
    "print(\"Efficient frontier plot:\", png_path)\n",
    "print(\"Frontier samples CSV:\", os.path.join(cfg[\"output_dir\"], cfg[\"frontier_csv\"]))\n",
    "print(\"Summary (JSON):\", json_path)\n",
    "print(\"Summary (TXT):\", txt_path)\n",
    "print(\"\\nDone.\")\n",
    "\n"
   ]
  }
 ],
 "metadata": {
  "kernelspec": {
   "display_name": "venv",
   "language": "python",
   "name": "python3"
  },
  "language_info": {
   "codemirror_mode": {
    "name": "ipython",
    "version": 3
   },
   "file_extension": ".py",
   "mimetype": "text/x-python",
   "name": "python",
   "nbconvert_exporter": "python",
   "pygments_lexer": "ipython3",
   "version": "3.12.0"
  }
 },
 "nbformat": 4,
 "nbformat_minor": 5
}

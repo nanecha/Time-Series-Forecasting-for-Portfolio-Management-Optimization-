{
 "cells": [
  {
   "cell_type": "markdown",
   "id": "338eb233",
   "metadata": {},
   "source": [
    "\n",
    "\"\"\"\n",
    "Task 4 — Portfolio Optimization using MPT\n",
    "- TSLA expected return from forecast (Task 3)\n",
    "- BND/SPY expected returns from historical averages (annualized)\n",
    "- Covariance from historical daily returns (TSLA/BND/SPY)\n",
    "- Efficient Frontier (Monte Carlo), Max Sharpe & Min Volatility\n",
    "- Outputs plot + CSV + summary report\n",
    "\n",
    "Required inputs:\n",
    "- CSV with historical OHLCV for TSLA, BND, SPY (must contain 'Date' and 'Adj Close')\n",
    "- CSV with TSLA forecast from Task 3 (columns: Forecast, Lower, Upper; index as dates)\n",
    "\"\"\""
   ]
  },
  {
   "cell_type": "code",
   "execution_count": 1,
   "id": "7ef54f57",
   "metadata": {},
   "outputs": [],
   "source": [
    "#import  dependences\n",
    "import json\n",
    "import numpy as np\n",
    "import pandas as pd\n",
    "import matplotlib.pyplot as plt\n",
    "import os\n",
    "from datetime import datetime\n",
    "import sys\n",
    "sys.path.append(os.path.abspath(os.path.join(os.getcwd(), '..')))"
   ]
  },
  {
   "cell_type": "markdown",
   "id": "be44b76b",
   "metadata": {},
   "source": [
    "# loaded function from the module"
   ]
  },
  {
   "cell_type": "code",
   "execution_count": 2,
   "id": "3f50ab3a",
   "metadata": {},
   "outputs": [],
   "source": [
    "from src import portfolio_optimization\n",
    "from src.portfolio_optimization import load_historical_prices,covariance_matrix_annual,compute_daily_returns,load_tsla_expected_return_from_forecast,expected_returns_annual,simulate_portfolios,pick_key_portfolios,plot_efficient_frontier,recommend_portfolio,write_summary"
   ]
  },
  {
   "cell_type": "code",
   "execution_count": 5,
   "id": "08161c82",
   "metadata": {},
   "outputs": [],
   "source": [
    "CONFIG = {\n",
    "    # Paths to historical CSVs (from Task 1)\n",
    "    \"tsla_hist_csv\": \"F:/Time-Series-Forecasting-for-Portfolio-Management-Optimization-/data/scrap data/TSLA_data.csv\",\n",
    "    \"bnd_hist_csv\":  \"F:/Time-Series-Forecasting-for-Portfolio-Management-Optimization-/data/scrap data/BND_data.csv\",\n",
    "    \"spy_hist_csv\":  \"F:/Time-Series-Forecasting-for-Portfolio-Management-Optimization-/data/scrap data/SPY_data.csv\",\n",
    "\n",
    "    # Path to TSLA forecast results (from Task 3)\n",
    "    \"tsla_forecast_csv\": \"F:/Time-Series-Forecasting-for-Portfolio-Management-Optimization-/data/output/data/output/tesla_forecast_6months.csv\",  # columns: Forecast, Lower, Upper\n",
    "\n",
    "    # Columns\n",
    "    \"date_col\": \"Date\",\n",
    "    \"price_col\": \"Close\",  # fallback to 'Close' if not present\n",
    "\n",
    "    # Output\n",
    "    \"output_dir\": \"data/output\",\n",
    "    \"frontier_png\": \"efficient_frontier.png\",\n",
    "    \"frontier_csv\": \"efficient_frontier_samples.csv\",\n",
    "    \"summary_json\": \"portfolio_summary.json\",\n",
    "    \"summary_txt\": \"portfolio_summary.txt\",\n",
    "\n",
    "    # Simulation\n",
    "    \"n_portfolios\": 50000,\n",
    "    \"risk_free_rate\": 0.02,  # annualized\n",
    "    \"trading_days\": 252\n",
    "}\n"
   ]
  },
  {
   "cell_type": "markdown",
   "id": "86b9e0e3",
   "metadata": {},
   "source": [
    "## loading of historical data"
   ]
  },
  {
   "cell_type": "code",
   "execution_count": 3,
   "id": "e489003d",
   "metadata": {},
   "outputs": [],
   "source": [
    "#cfg=CONFIG, preference=\"max_sharpe\"\n",
    "preference=\"max_sharpe\"\n",
    " # Load historical prices\n",
    "prices = load_historical_prices()\n"
   ]
  },
  {
   "cell_type": "code",
   "execution_count": 6,
   "id": "0a780068",
   "metadata": {},
   "outputs": [
    {
     "name": "stdout",
     "output_type": "stream",
     "text": [
      "         Date           0\n",
      "0  2024-01-02  248.589829\n",
      "1  2024-01-03  249.978745\n",
      "2  2024-01-04  249.734335\n",
      "3  2024-01-05  249.257801\n",
      "4  2024-01-08  249.208264\n",
      "5  2024-01-09  248.670971\n",
      "6  2024-01-10  249.148629\n",
      "7  2024-01-11  249.186808\n",
      "8  2024-01-12  249.621606\n",
      "9  2024-01-16  249.839300\n"
     ]
    }
   ],
   "source": [
    "df=pd.read_csv('F:/Time-Series-Forecasting-for-Portfolio-Management-Optimization-/data/output/arima_forecast (1).csv')  # columns: Forecast, Lower, Upper\n",
    "print(df.head(10))\n",
    "# print(forecasted_tsla.isna().sum())\n",
    "\n"
   ]
  },
  {
   "cell_type": "markdown",
   "id": "838bc924",
   "metadata": {},
   "source": [
    "# daily return"
   ]
  },
  {
   "cell_type": "code",
   "execution_count": 7,
   "id": "4ff5029b",
   "metadata": {},
   "outputs": [
    {
     "name": "stdout",
     "output_type": "stream",
     "text": [
      "                TSLA       BND       SPY\n",
      "Date                                    \n",
      "2015-07-02  0.040386  0.002472 -0.000916\n",
      "2015-07-06 -0.001071  0.003452 -0.002846\n",
      "2015-07-07 -0.042328  0.000984  0.006288\n",
      "2015-07-08 -0.048231  0.002824 -0.016777\n",
      "2015-07-09  0.011610 -0.003306  0.001809\n",
      "...              ...       ...       ...\n",
      "2025-07-24 -0.081970 -0.001232  0.000331\n",
      "2025-07-25  0.035244  0.002468  0.004224\n",
      "2025-07-28  0.030152 -0.001641 -0.000251\n",
      "2025-07-29 -0.013483  0.005205 -0.002638\n",
      "2025-07-30 -0.006725 -0.002589 -0.001259\n",
      "\n",
      "[2534 rows x 3 columns]\n"
     ]
    }
   ],
   "source": [
    "# -----------------------------\n",
    "# 6) Main\n",
    "# -----------------------------\n",
    "\n",
    "    # Daily returns (for covariance)\n",
    "daily_returns = compute_daily_returns(prices)\n",
    "print(daily_returns)\n",
    "\n"
   ]
  },
  {
   "cell_type": "markdown",
   "id": "afcf7d4a",
   "metadata": {},
   "source": [
    "# Expected Annual Return"
   ]
  },
  {
   "cell_type": "code",
   "execution_count": 8,
   "id": "432aaf09",
   "metadata": {},
   "outputs": [
    {
     "name": "stdout",
     "output_type": "stream",
     "text": [
      "nan\n"
     ]
    },
    {
     "name": "stderr",
     "output_type": "stream",
     "text": [
      "f:\\Time-Series-Forecasting-for-Portfolio-Management-Optimization-\\src\\portfolio_optimization.py:92: FutureWarning: The default fill_method='pad' in Series.pct_change is deprecated and will be removed in a future version. Either fill in any non-leading NA values prior to calling pct_change or specify 'fill_method=None' to not fill NA values.\n",
      "  daily_ret = forecast.pct_change().dropna()\n"
     ]
    }
   ],
   "source": [
    "\n",
    "    # TSLA expected annual return from forecast\n",
    "tsla_exp_ann = load_tsla_expected_return_from_forecast()\n",
    "print(tsla_exp_ann)\n"
   ]
  },
  {
   "cell_type": "markdown",
   "id": "3da73e96",
   "metadata": {},
   "source": [
    " # Expected returns vecto"
   ]
  },
  {
   "cell_type": "code",
   "execution_count": 10,
   "id": "ddf8d47b",
   "metadata": {},
   "outputs": [
    {
     "name": "stdout",
     "output_type": "stream",
     "text": [
      "TSLA         NaN\n",
      "BND     0.019599\n",
      "SPY     0.144844\n",
      "dtype: float64\n"
     ]
    }
   ],
   "source": [
    "\n",
    "    # Expected returns vector\n",
    "exp_ann = expected_returns_annual(daily_returns, tsla_exp_ann)\n",
    "print(exp_ann)"
   ]
  },
  {
   "cell_type": "markdown",
   "id": "33333e5e",
   "metadata": {},
   "source": [
    " # Annualized covariance matrix"
   ]
  },
  {
   "cell_type": "code",
   "execution_count": 11,
   "id": "729aabd4",
   "metadata": {},
   "outputs": [
    {
     "name": "stdout",
     "output_type": "stream",
     "text": [
      "          TSLA       BND       SPY\n",
      "TSLA  0.350331  0.001861  0.052950\n",
      "BND   0.001861  0.003016  0.001150\n",
      "SPY   0.052950  0.001150  0.033272\n"
     ]
    }
   ],
   "source": [
    "    # Annualized covariance matrix\n",
    "cov_ann = covariance_matrix_annual(daily_returns)\n",
    "print(cov_ann.head(10))"
   ]
  },
  {
   "cell_type": "markdown",
   "id": "9a3e9d57",
   "metadata": {},
   "source": [
    "# Frontier "
   ]
  },
  {
   "cell_type": "code",
   "execution_count": 12,
   "id": "43440c77",
   "metadata": {},
   "outputs": [],
   "source": [
    "\n",
    "# Simulate frontier\n",
    "frontier = simulate_portfolios(exp_ann, cov_ann)\n",
    "os.makedirs(\"output_dir\", exist_ok=True)\n",
    "frontier.to_csv(os.path.join(\"output_dir\", \"frontier_csv\"), index=False)\n"
   ]
  },
  {
   "cell_type": "code",
   "execution_count": 13,
   "id": "e4d697fc",
   "metadata": {},
   "outputs": [
    {
     "data": {
      "text/html": [
       "<div>\n",
       "<style scoped>\n",
       "    .dataframe tbody tr th:only-of-type {\n",
       "        vertical-align: middle;\n",
       "    }\n",
       "\n",
       "    .dataframe tbody tr th {\n",
       "        vertical-align: top;\n",
       "    }\n",
       "\n",
       "    .dataframe thead th {\n",
       "        text-align: right;\n",
       "    }\n",
       "</style>\n",
       "<table border=\"1\" class=\"dataframe\">\n",
       "  <thead>\n",
       "    <tr style=\"text-align: right;\">\n",
       "      <th></th>\n",
       "      <th>Volatility</th>\n",
       "      <th>Return</th>\n",
       "      <th>Sharpe</th>\n",
       "      <th>TSLA</th>\n",
       "      <th>BND</th>\n",
       "      <th>SPY</th>\n",
       "    </tr>\n",
       "  </thead>\n",
       "  <tbody>\n",
       "    <tr>\n",
       "      <th>0</th>\n",
       "      <td>0.280972</td>\n",
       "      <td>NaN</td>\n",
       "      <td>NaN</td>\n",
       "      <td>0.379321</td>\n",
       "      <td>0.123785</td>\n",
       "      <td>0.496895</td>\n",
       "    </tr>\n",
       "    <tr>\n",
       "      <th>1</th>\n",
       "      <td>0.268444</td>\n",
       "      <td>NaN</td>\n",
       "      <td>NaN</td>\n",
       "      <td>0.399724</td>\n",
       "      <td>0.309355</td>\n",
       "      <td>0.290921</td>\n",
       "    </tr>\n",
       "    <tr>\n",
       "      <th>2</th>\n",
       "      <td>0.386781</td>\n",
       "      <td>NaN</td>\n",
       "      <td>NaN</td>\n",
       "      <td>0.596652</td>\n",
       "      <td>0.071224</td>\n",
       "      <td>0.332123</td>\n",
       "    </tr>\n",
       "    <tr>\n",
       "      <th>3</th>\n",
       "      <td>0.343516</td>\n",
       "      <td>NaN</td>\n",
       "      <td>NaN</td>\n",
       "      <td>0.571696</td>\n",
       "      <td>0.393181</td>\n",
       "      <td>0.035123</td>\n",
       "    </tr>\n",
       "    <tr>\n",
       "      <th>4</th>\n",
       "      <td>0.405418</td>\n",
       "      <td>NaN</td>\n",
       "      <td>NaN</td>\n",
       "      <td>0.638705</td>\n",
       "      <td>0.085700</td>\n",
       "      <td>0.275595</td>\n",
       "    </tr>\n",
       "  </tbody>\n",
       "</table>\n",
       "</div>"
      ],
      "text/plain": [
       "   Volatility  Return  Sharpe      TSLA       BND       SPY\n",
       "0    0.280972     NaN     NaN  0.379321  0.123785  0.496895\n",
       "1    0.268444     NaN     NaN  0.399724  0.309355  0.290921\n",
       "2    0.386781     NaN     NaN  0.596652  0.071224  0.332123\n",
       "3    0.343516     NaN     NaN  0.571696  0.393181  0.035123\n",
       "4    0.405418     NaN     NaN  0.638705  0.085700  0.275595"
      ]
     },
     "execution_count": 13,
     "metadata": {},
     "output_type": "execute_result"
    }
   ],
   "source": [
    "\n",
    "frontier.head()"
   ]
  },
  {
   "cell_type": "markdown",
   "id": "5ce7b369",
   "metadata": {},
   "source": [
    "# Key portfolios"
   ]
  },
  {
   "cell_type": "code",
   "execution_count": null,
   "id": "2312fb86",
   "metadata": {},
   "outputs": [],
   "source": [
    "\n",
    "# Key portfolios\n",
    "max_sharpe, min_vol = pick_key_portfolios(frontier)\n"
   ]
  },
  {
   "cell_type": "code",
   "execution_count": null,
   "id": "5953a4ec",
   "metadata": {},
   "outputs": [],
   "source": [
    "\n",
    "# Plot\n",
    "png_path = plot_efficient_frontier(frontier, max_sharpe, min_vol, cfg)\n"
   ]
  },
  {
   "cell_type": "code",
   "execution_count": null,
   "id": "05dcdd3b",
   "metadata": {},
   "outputs": [],
   "source": [
    "\n",
    "    # Recommendation (default: max Sharpe)\n",
    "recommended = recommend_portfolio(max_sharpe, min_vol, preference=preference)\n"
   ]
  },
  {
   "cell_type": "code",
   "execution_count": null,
   "id": "5c922b35",
   "metadata": {},
   "outputs": [],
   "source": [
    "\n",
    "    # Write summaries\n",
    "json_path, txt_path = write_summary(exp_ann, cov_ann, max_sharpe, min_vol, recommended, cfg)\n",
    "\n",
    "print(\"\\n=== Outputs ===\")\n",
    "print(\"Efficient frontier plot:\", png_path)\n",
    "print(\"Frontier samples CSV:\", os.path.join(cfg[\"output_dir\"], cfg[\"frontier_csv\"]))\n",
    "print(\"Summary (JSON):\", json_path)\n",
    "print(\"Summary (TXT):\", txt_path)\n",
    "print(\"\\nDone.\")\n",
    "\n"
   ]
  }
 ],
 "metadata": {
  "kernelspec": {
   "display_name": "venv",
   "language": "python",
   "name": "python3"
  },
  "language_info": {
   "codemirror_mode": {
    "name": "ipython",
    "version": 3
   },
   "file_extension": ".py",
   "mimetype": "text/x-python",
   "name": "python",
   "nbconvert_exporter": "python",
   "pygments_lexer": "ipython3",
   "version": "3.12.0"
  }
 },
 "nbformat": 4,
 "nbformat_minor": 5
}

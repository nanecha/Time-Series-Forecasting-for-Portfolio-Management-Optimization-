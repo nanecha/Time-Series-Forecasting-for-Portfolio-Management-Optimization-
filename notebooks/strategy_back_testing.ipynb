{
 "cells": [
  {
   "cell_type": "markdown",
   "id": "8694896d",
   "metadata": {},
   "source": [
    "# Task-5 strategic back testing \n"
   ]
  },
  {
   "cell_type": "code",
   "execution_count": 1,
   "id": "5e32962d",
   "metadata": {},
   "outputs": [],
   "source": [
    "# dependencies\n",
    "import pandas as pd\n",
    "import numpy as np\n",
    "import matplotlib.pyplot as plt\n",
    "import os\n",
    "import sys"
   ]
  },
  {
   "cell_type": "markdown",
   "id": "57f01a56",
   "metadata": {},
   "source": [
    "# load module"
   ]
  },
  {
   "cell_type": "markdown",
   "id": "78f3a334",
   "metadata": {},
   "source": [
    "# main module"
   ]
  },
  {
   "cell_type": "code",
   "execution_count": 2,
   "id": "e0fa6fea",
   "metadata": {},
   "outputs": [],
   "source": [
    "sys.path.append(os.path.abspath(os.path.join(os.getcwd(), '..')))\n",
    "from src.strategy_back_testing import load_data, simulate_portfolio, calculate_metrics, plot_cumulative_returns, summarize_performance"
   ]
  },
  {
   "cell_type": "code",
   "execution_count": 3,
   "id": "c64e7a28",
   "metadata": {},
   "outputs": [
    {
     "name": "stdout",
     "output_type": "stream",
     "text": [
      "Error loading data: Weights not found in task4_portfolio_summary.txt\n"
     ]
    }
   ],
   "source": [
    "# run main function \n",
    "def main():\n",
    "    \"\"\"\n",
    "    Main function to execute Task 5 backtesting.\n",
    "    \"\"\"\n",
    "    # Parameters\n",
    "    tsla_path = 'F:/Time-Series-Forecasting-for-Portfolio-Management-Optimization-/data/scrap data/TSLA_data.csv'\n",
    "    bnd_path = 'F:/Time-Series-Forecasting-for-Portfolio-Management-Optimization-/data/scrap data/BND_data.csv'\n",
    "    spy_path = 'F:/Time-Series-Forecasting-for-Portfolio-Management-Optimization-/data/scrap data/SPY_data.csv'\n",
    "    portfolio_summary_path = 'F:/Time-Series-Forecasting-for-Portfolio-Management-Optimization-/data/dataf/output/portfolio_summary.txt'\n",
    "    start_date = '2024-08-01'\n",
    "    end_date = '2025-07-31'\n",
    "    output_dir = 'data/output'\n",
    "    plot_dir = 'plots/backtesting'\n",
    "    risk_free_rate = 0.03 / 252  # Daily risk-free rate\n",
    "    \n",
    "    # Load data and weights\n",
    "    returns, strategy_weights, benchmark_weights = load_data(tsla_path, bnd_path, spy_path, portfolio_summary_path, start_date, end_date)\n",
    "    if returns is None:\n",
    "        return\n",
    "    \n",
    "    # Simulate portfolios\n",
    "    strategy_returns, strategy_cumulative = simulate_portfolio(returns, strategy_weights)\n",
    "    benchmark_returns, benchmark_cumulative = simulate_portfolio(returns, benchmark_weights)\n",
    "    \n",
    "    # Calculate metrics\n",
    "    strategy_metrics = calculate_metrics(strategy_returns, risk_free_rate)\n",
    "    benchmark_metrics = calculate_metrics(benchmark_returns, risk_free_rate)\n",
    "    \n",
    "    # Plot cumulative returns\n",
    "    plot_cumulative_returns(strategy_cumulative, benchmark_cumulative, plot_dir)\n",
    "    \n",
    "    # Summarize performance\n",
    "    summarize_performance(strategy_metrics, benchmark_metrics, output_dir)\n",
    "\n",
    "\n",
    "if __name__ == \"__main__\":\n",
    "    main()"
   ]
  }
 ],
 "metadata": {
  "kernelspec": {
   "display_name": "venv",
   "language": "python",
   "name": "python3"
  },
  "language_info": {
   "codemirror_mode": {
    "name": "ipython",
    "version": 3
   },
   "file_extension": ".py",
   "mimetype": "text/x-python",
   "name": "python",
   "nbconvert_exporter": "python",
   "pygments_lexer": "ipython3",
   "version": "3.12.0"
  }
 },
 "nbformat": 4,
 "nbformat_minor": 5
}
